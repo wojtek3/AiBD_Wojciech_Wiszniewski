{
 "cells": [
  {
   "cell_type": "markdown",
   "id": "547c393b",
   "metadata": {},
   "source": [
    "Wojciech Wiszniewski"
   ]
  },
  {
   "cell_type": "markdown",
   "id": "f3a082fc",
   "metadata": {},
   "source": [
    "W tym ćwiczeniu miałem wygenerować dataframe z kolumnami o nazwach name, surname, age i sex. Do tego celu wykorzystałem moduł pandas. W pierwszej kolejności stworzłem listę z danymi o pięciu różnych osobach, następnie za pomocą modułu pandas wykorzystałem ją do utworzenia dataframe. Na konies sprawdziłem informacje o danych, opis danych i pierwsze trzy rekordy utworzonej dataframe."
   ]
  },
  {
   "cell_type": "markdown",
   "id": "4c34457a",
   "metadata": {},
   "source": [
    "1. importuję moduł pandas"
   ]
  },
  {
   "cell_type": "code",
   "execution_count": 27,
   "id": "cfb93756",
   "metadata": {},
   "outputs": [],
   "source": [
    "import pandas as pd"
   ]
  },
  {
   "cell_type": "markdown",
   "id": "075410a8",
   "metadata": {},
   "source": [
    "2. tworzę listę z danymi o osobach"
   ]
  },
  {
   "cell_type": "code",
   "execution_count": 28,
   "id": "d17046cb",
   "metadata": {},
   "outputs": [],
   "source": [
    "osoby = [('Ferdynand','Kiepski','58','Male'),\n",
    "        ('Lech', 'Dyblik', '66', 'Male'),\n",
    "        ('Marian', 'Paździoch', '78', 'Male'),\n",
    "        ('Mariola', 'Kiepska', '20', 'Female'),\n",
    "        ('Arnold', 'Boczek', '58', 'Male')]"
   ]
  },
  {
   "cell_type": "markdown",
   "id": "94a16b66",
   "metadata": {},
   "source": [
    "3. tworzę dataframe ze zdefiniowanymi nazwami kolumn, wypełnioną danymi z listy 'osoby'"
   ]
  },
  {
   "cell_type": "code",
   "execution_count": 29,
   "id": "8e6292c8",
   "metadata": {},
   "outputs": [],
   "source": [
    "df = pd.DataFrame(osoby, columns = [\"name\", \"surname\", \"age\", \"sex\"])"
   ]
  },
  {
   "cell_type": "markdown",
   "id": "f5fdae91",
   "metadata": {},
   "source": [
    "4. wyświetlam dataframe"
   ]
  },
  {
   "cell_type": "code",
   "execution_count": 30,
   "id": "1897615f",
   "metadata": {},
   "outputs": [
    {
     "data": {
      "text/html": [
       "<div>\n",
       "<style scoped>\n",
       "    .dataframe tbody tr th:only-of-type {\n",
       "        vertical-align: middle;\n",
       "    }\n",
       "\n",
       "    .dataframe tbody tr th {\n",
       "        vertical-align: top;\n",
       "    }\n",
       "\n",
       "    .dataframe thead th {\n",
       "        text-align: right;\n",
       "    }\n",
       "</style>\n",
       "<table border=\"1\" class=\"dataframe\">\n",
       "  <thead>\n",
       "    <tr style=\"text-align: right;\">\n",
       "      <th></th>\n",
       "      <th>name</th>\n",
       "      <th>surname</th>\n",
       "      <th>age</th>\n",
       "      <th>sex</th>\n",
       "    </tr>\n",
       "  </thead>\n",
       "  <tbody>\n",
       "    <tr>\n",
       "      <th>0</th>\n",
       "      <td>Ferdynand</td>\n",
       "      <td>Kiepski</td>\n",
       "      <td>58</td>\n",
       "      <td>Male</td>\n",
       "    </tr>\n",
       "    <tr>\n",
       "      <th>1</th>\n",
       "      <td>Lech</td>\n",
       "      <td>Dyblik</td>\n",
       "      <td>66</td>\n",
       "      <td>Male</td>\n",
       "    </tr>\n",
       "    <tr>\n",
       "      <th>2</th>\n",
       "      <td>Marian</td>\n",
       "      <td>Paździoch</td>\n",
       "      <td>78</td>\n",
       "      <td>Male</td>\n",
       "    </tr>\n",
       "    <tr>\n",
       "      <th>3</th>\n",
       "      <td>Mariola</td>\n",
       "      <td>Kiepska</td>\n",
       "      <td>20</td>\n",
       "      <td>Female</td>\n",
       "    </tr>\n",
       "    <tr>\n",
       "      <th>4</th>\n",
       "      <td>Arnold</td>\n",
       "      <td>Boczek</td>\n",
       "      <td>58</td>\n",
       "      <td>Male</td>\n",
       "    </tr>\n",
       "  </tbody>\n",
       "</table>\n",
       "</div>"
      ],
      "text/plain": [
       "        name    surname age     sex\n",
       "0  Ferdynand    Kiepski  58    Male\n",
       "1       Lech     Dyblik  66    Male\n",
       "2     Marian  Paździoch  78    Male\n",
       "3    Mariola    Kiepska  20  Female\n",
       "4     Arnold     Boczek  58    Male"
      ]
     },
     "execution_count": 30,
     "metadata": {},
     "output_type": "execute_result"
    }
   ],
   "source": [
    "df"
   ]
  },
  {
   "cell_type": "markdown",
   "id": "67d0dab9",
   "metadata": {},
   "source": [
    "5. wyświetlam informacje o danych"
   ]
  },
  {
   "cell_type": "code",
   "execution_count": 31,
   "id": "eaf1ba4d",
   "metadata": {},
   "outputs": [
    {
     "name": "stdout",
     "output_type": "stream",
     "text": [
      "<class 'pandas.core.frame.DataFrame'>\n",
      "RangeIndex: 5 entries, 0 to 4\n",
      "Data columns (total 4 columns):\n",
      " #   Column   Non-Null Count  Dtype \n",
      "---  ------   --------------  ----- \n",
      " 0   name     5 non-null      object\n",
      " 1   surname  5 non-null      object\n",
      " 2   age      5 non-null      object\n",
      " 3   sex      5 non-null      object\n",
      "dtypes: object(4)\n",
      "memory usage: 288.0+ bytes\n"
     ]
    }
   ],
   "source": [
    "df.info()"
   ]
  },
  {
   "cell_type": "markdown",
   "id": "dc15ab98",
   "metadata": {},
   "source": [
    "6. wyświetlam opis danych"
   ]
  },
  {
   "cell_type": "code",
   "execution_count": 32,
   "id": "447bc4ae",
   "metadata": {},
   "outputs": [
    {
     "data": {
      "text/html": [
       "<div>\n",
       "<style scoped>\n",
       "    .dataframe tbody tr th:only-of-type {\n",
       "        vertical-align: middle;\n",
       "    }\n",
       "\n",
       "    .dataframe tbody tr th {\n",
       "        vertical-align: top;\n",
       "    }\n",
       "\n",
       "    .dataframe thead th {\n",
       "        text-align: right;\n",
       "    }\n",
       "</style>\n",
       "<table border=\"1\" class=\"dataframe\">\n",
       "  <thead>\n",
       "    <tr style=\"text-align: right;\">\n",
       "      <th></th>\n",
       "      <th>name</th>\n",
       "      <th>surname</th>\n",
       "      <th>age</th>\n",
       "      <th>sex</th>\n",
       "    </tr>\n",
       "  </thead>\n",
       "  <tbody>\n",
       "    <tr>\n",
       "      <th>count</th>\n",
       "      <td>5</td>\n",
       "      <td>5</td>\n",
       "      <td>5</td>\n",
       "      <td>5</td>\n",
       "    </tr>\n",
       "    <tr>\n",
       "      <th>unique</th>\n",
       "      <td>5</td>\n",
       "      <td>5</td>\n",
       "      <td>4</td>\n",
       "      <td>2</td>\n",
       "    </tr>\n",
       "    <tr>\n",
       "      <th>top</th>\n",
       "      <td>Ferdynand</td>\n",
       "      <td>Kiepski</td>\n",
       "      <td>58</td>\n",
       "      <td>Male</td>\n",
       "    </tr>\n",
       "    <tr>\n",
       "      <th>freq</th>\n",
       "      <td>1</td>\n",
       "      <td>1</td>\n",
       "      <td>2</td>\n",
       "      <td>4</td>\n",
       "    </tr>\n",
       "  </tbody>\n",
       "</table>\n",
       "</div>"
      ],
      "text/plain": [
       "             name  surname age   sex\n",
       "count           5        5   5     5\n",
       "unique          5        5   4     2\n",
       "top     Ferdynand  Kiepski  58  Male\n",
       "freq            1        1   2     4"
      ]
     },
     "execution_count": 32,
     "metadata": {},
     "output_type": "execute_result"
    }
   ],
   "source": [
    "df.describe()"
   ]
  },
  {
   "cell_type": "markdown",
   "id": "34ea31d1",
   "metadata": {},
   "source": [
    "7. wyświetlam trzy pierwsze rekordy"
   ]
  },
  {
   "cell_type": "code",
   "execution_count": 33,
   "id": "adf0a409",
   "metadata": {},
   "outputs": [
    {
     "data": {
      "text/html": [
       "<div>\n",
       "<style scoped>\n",
       "    .dataframe tbody tr th:only-of-type {\n",
       "        vertical-align: middle;\n",
       "    }\n",
       "\n",
       "    .dataframe tbody tr th {\n",
       "        vertical-align: top;\n",
       "    }\n",
       "\n",
       "    .dataframe thead th {\n",
       "        text-align: right;\n",
       "    }\n",
       "</style>\n",
       "<table border=\"1\" class=\"dataframe\">\n",
       "  <thead>\n",
       "    <tr style=\"text-align: right;\">\n",
       "      <th></th>\n",
       "      <th>name</th>\n",
       "      <th>surname</th>\n",
       "      <th>age</th>\n",
       "      <th>sex</th>\n",
       "    </tr>\n",
       "  </thead>\n",
       "  <tbody>\n",
       "    <tr>\n",
       "      <th>0</th>\n",
       "      <td>Ferdynand</td>\n",
       "      <td>Kiepski</td>\n",
       "      <td>58</td>\n",
       "      <td>Male</td>\n",
       "    </tr>\n",
       "    <tr>\n",
       "      <th>1</th>\n",
       "      <td>Lech</td>\n",
       "      <td>Dyblik</td>\n",
       "      <td>66</td>\n",
       "      <td>Male</td>\n",
       "    </tr>\n",
       "    <tr>\n",
       "      <th>2</th>\n",
       "      <td>Marian</td>\n",
       "      <td>Paździoch</td>\n",
       "      <td>78</td>\n",
       "      <td>Male</td>\n",
       "    </tr>\n",
       "  </tbody>\n",
       "</table>\n",
       "</div>"
      ],
      "text/plain": [
       "        name    surname age   sex\n",
       "0  Ferdynand    Kiepski  58  Male\n",
       "1       Lech     Dyblik  66  Male\n",
       "2     Marian  Paździoch  78  Male"
      ]
     },
     "execution_count": 33,
     "metadata": {},
     "output_type": "execute_result"
    }
   ],
   "source": [
    "df.head(3)"
   ]
  }
 ],
 "metadata": {
  "kernelspec": {
   "display_name": "Python 3 (ipykernel)",
   "language": "python",
   "name": "python3"
  },
  "language_info": {
   "codemirror_mode": {
    "name": "ipython",
    "version": 3
   },
   "file_extension": ".py",
   "mimetype": "text/x-python",
   "name": "python",
   "nbconvert_exporter": "python",
   "pygments_lexer": "ipython3",
   "version": "3.9.6"
  }
 },
 "nbformat": 4,
 "nbformat_minor": 5
}
